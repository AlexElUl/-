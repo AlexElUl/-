{
 "cells": [
  {
   "cell_type": "markdown",
   "metadata": {},
   "source": [
    "### Лаб. Раб. №1. Елисеев А. Ю."
   ]
  },
  {
   "cell_type": "code",
   "execution_count": 49,
   "metadata": {},
   "outputs": [],
   "source": [
    "import pandas as pd\n",
    "import numpy as np\n",
    "import matplotlib.pyplot as plt\n",
    "import seaborn as sns\n",
    "import scipy.stats as stats\n",
    "import scipy\n",
    "import statistics\n"
   ]
  },
  {
   "cell_type": "markdown",
   "metadata": {},
   "source": [
    "В данном разделе выбраны данные, представленные на сайте Росстата https://rosstat.gov.ru/statistics/science В таблице содержатся данные, проливающие свет на распространенность серверных технологий в сфере по обслуживанию средств передвижения."
   ]
  },
  {
   "cell_type": "code",
   "execution_count": 50,
   "metadata": {},
   "outputs": [
    {
     "data": {
      "text/html": [
       "<div>\n",
       "<style scoped>\n",
       "    .dataframe tbody tr th:only-of-type {\n",
       "        vertical-align: middle;\n",
       "    }\n",
       "\n",
       "    .dataframe tbody tr th {\n",
       "        vertical-align: top;\n",
       "    }\n",
       "\n",
       "    .dataframe thead th {\n",
       "        text-align: right;\n",
       "    }\n",
       "</style>\n",
       "<table border=\"1\" class=\"dataframe\">\n",
       "  <thead>\n",
       "    <tr style=\"text-align: right;\">\n",
       "      <th></th>\n",
       "      <th>number of servers</th>\n",
       "      <th>year</th>\n",
       "    </tr>\n",
       "  </thead>\n",
       "  <tbody>\n",
       "    <tr>\n",
       "      <th>0</th>\n",
       "      <td>58.0</td>\n",
       "      <td>2017</td>\n",
       "    </tr>\n",
       "    <tr>\n",
       "      <th>1</th>\n",
       "      <td>53.9</td>\n",
       "      <td>2018</td>\n",
       "    </tr>\n",
       "    <tr>\n",
       "      <th>2</th>\n",
       "      <td>53.5</td>\n",
       "      <td>2019</td>\n",
       "    </tr>\n",
       "    <tr>\n",
       "      <th>3</th>\n",
       "      <td>36.1</td>\n",
       "      <td>2020</td>\n",
       "    </tr>\n",
       "    <tr>\n",
       "      <th>4</th>\n",
       "      <td>37.4</td>\n",
       "      <td>2021</td>\n",
       "    </tr>\n",
       "    <tr>\n",
       "      <th>5</th>\n",
       "      <td>37.2</td>\n",
       "      <td>2022</td>\n",
       "    </tr>\n",
       "    <tr>\n",
       "      <th>6</th>\n",
       "      <td>32.2</td>\n",
       "      <td>2023</td>\n",
       "    </tr>\n",
       "  </tbody>\n",
       "</table>\n",
       "</div>"
      ],
      "text/plain": [
       "   number of servers   year\n",
       "0               58.0   2017\n",
       "1               53.9   2018\n",
       "2               53.5   2019\n",
       "3               36.1   2020\n",
       "4               37.4   2021\n",
       "5               37.2   2022\n",
       "6               32.2   2023"
      ]
     },
     "execution_count": 50,
     "metadata": {},
     "output_type": "execute_result"
    }
   ],
   "source": [
    "df2 = pd.read_csv(\"Wholesale and retail trade; repair of motor vehicles, motorcycles.csv\")\n",
    "df2"
   ]
  },
  {
   "cell_type": "code",
   "execution_count": 51,
   "metadata": {},
   "outputs": [
    {
     "name": "stdout",
     "output_type": "stream",
     "text": [
      "Среднее: 44.042857142857144, Медиана: 37.4.\n"
     ]
    }
   ],
   "source": [
    "# Расчет медианы и среднего значения для колонки кол-ва использующихся в сфере серверов\n",
    "serv = df2['number of servers']\n",
    "serv_mean, serv_median = serv.mean(), serv.median()\n",
    "print(f'Среднее: {serv_mean}, Медиана: {serv_median}.')"
   ]
  },
  {
   "cell_type": "code",
   "execution_count": 52,
   "metadata": {},
   "outputs": [
    {
     "name": "stdout",
     "output_type": "stream",
     "text": [
      "Так как все значения в колонке уникальны, значит, среди выбранных данных нет моды.\n"
     ]
    }
   ],
   "source": [
    "# Расчет моды\n",
    "if serv.is_unique != True:\n",
    "    print(f'Мода: {df2.mode()}')\n",
    "else:\n",
    "    print('Так как все значения в колонке уникальны, значит, среди выбранных данных нет моды.')\n",
    "    "
   ]
  },
  {
   "cell_type": "code",
   "execution_count": 53,
   "metadata": {},
   "outputs": [
    {
     "data": {
      "text/plain": [
       "<BarContainer object of 7 artists>"
      ]
     },
     "execution_count": 53,
     "metadata": {},
     "output_type": "execute_result"
    },
    {
     "data": {
      "image/png": "[encoded data removed]",
      "text/plain": [
       "<Figure size 640x480 with 1 Axes>"
      ]
     },
     "metadata": {},
     "output_type": "display_data"
    }
   ],
   "source": [
    "# Распределение со смещенной медианой относительно среднего (~15% размаха) \n",
    "plt.bar(df2[' year'], df2['number of servers'])"
   ]
  },
  {
   "cell_type": "markdown",
   "metadata": {},
   "source": [
    "В данном пункте представлены индексы общественного здоровья, разделенные по странам и годам. https://github.com/pycaret/pycaret/blob/master/datasets/public_health.csv"
   ]
  },
  {
   "cell_type": "code",
   "execution_count": 54,
   "metadata": {},
   "outputs": [
    {
     "data": {
      "text/html": [
       "<div>\n",
       "<style scoped>\n",
       "    .dataframe tbody tr th:only-of-type {\n",
       "        vertical-align: middle;\n",
       "    }\n",
       "\n",
       "    .dataframe tbody tr th {\n",
       "        vertical-align: top;\n",
       "    }\n",
       "\n",
       "    .dataframe thead th {\n",
       "        text-align: right;\n",
       "    }\n",
       "</style>\n",
       "<table border=\"1\" class=\"dataframe\">\n",
       "  <thead>\n",
       "    <tr style=\"text-align: right;\">\n",
       "      <th></th>\n",
       "      <th>Country Name</th>\n",
       "      <th>1995</th>\n",
       "      <th>1996</th>\n",
       "      <th>1997</th>\n",
       "      <th>1998</th>\n",
       "      <th>1999</th>\n",
       "      <th>2000</th>\n",
       "      <th>2001</th>\n",
       "      <th>2002</th>\n",
       "      <th>2003</th>\n",
       "      <th>...</th>\n",
       "      <th>2005</th>\n",
       "      <th>2006</th>\n",
       "      <th>2007</th>\n",
       "      <th>2008</th>\n",
       "      <th>2009</th>\n",
       "      <th>2010</th>\n",
       "      <th>2011</th>\n",
       "      <th>2012</th>\n",
       "      <th>2013</th>\n",
       "      <th>2014</th>\n",
       "    </tr>\n",
       "  </thead>\n",
       "  <tbody>\n",
       "    <tr>\n",
       "      <th>0</th>\n",
       "      <td>Arab World</td>\n",
       "      <td>2.004868</td>\n",
       "      <td>2.014602</td>\n",
       "      <td>2.071309</td>\n",
       "      <td>2.177712</td>\n",
       "      <td>2.331000</td>\n",
       "      <td>2.333596</td>\n",
       "      <td>2.588751</td>\n",
       "      <td>2.540238</td>\n",
       "      <td>2.450415</td>\n",
       "      <td>...</td>\n",
       "      <td>2.134281</td>\n",
       "      <td>2.133038</td>\n",
       "      <td>2.166872</td>\n",
       "      <td>2.101233</td>\n",
       "      <td>2.830067</td>\n",
       "      <td>2.489631</td>\n",
       "      <td>2.539570</td>\n",
       "      <td>2.711262</td>\n",
       "      <td>2.895427</td>\n",
       "      <td>3.073161</td>\n",
       "    </tr>\n",
       "    <tr>\n",
       "      <th>1</th>\n",
       "      <td>Caribbean small states</td>\n",
       "      <td>2.801518</td>\n",
       "      <td>2.856684</td>\n",
       "      <td>2.997157</td>\n",
       "      <td>2.989451</td>\n",
       "      <td>2.767858</td>\n",
       "      <td>2.826752</td>\n",
       "      <td>2.679969</td>\n",
       "      <td>2.888693</td>\n",
       "      <td>2.740593</td>\n",
       "      <td>...</td>\n",
       "      <td>2.629580</td>\n",
       "      <td>2.650900</td>\n",
       "      <td>2.790665</td>\n",
       "      <td>2.822913</td>\n",
       "      <td>3.408651</td>\n",
       "      <td>3.264064</td>\n",
       "      <td>3.087653</td>\n",
       "      <td>3.314303</td>\n",
       "      <td>3.318432</td>\n",
       "      <td>3.260012</td>\n",
       "    </tr>\n",
       "    <tr>\n",
       "      <th>2</th>\n",
       "      <td>Central Europe and the Baltics</td>\n",
       "      <td>4.678528</td>\n",
       "      <td>4.753209</td>\n",
       "      <td>4.604574</td>\n",
       "      <td>4.499988</td>\n",
       "      <td>4.679082</td>\n",
       "      <td>4.539711</td>\n",
       "      <td>4.666272</td>\n",
       "      <td>4.900196</td>\n",
       "      <td>5.100249</td>\n",
       "      <td>...</td>\n",
       "      <td>4.970861</td>\n",
       "      <td>4.841450</td>\n",
       "      <td>4.809057</td>\n",
       "      <td>5.054785</td>\n",
       "      <td>5.394921</td>\n",
       "      <td>5.284380</td>\n",
       "      <td>5.096212</td>\n",
       "      <td>5.041317</td>\n",
       "      <td>5.029266</td>\n",
       "      <td>5.017717</td>\n",
       "    </tr>\n",
       "    <tr>\n",
       "      <th>3</th>\n",
       "      <td>Early-demographic dividend</td>\n",
       "      <td>2.203164</td>\n",
       "      <td>2.156632</td>\n",
       "      <td>2.227311</td>\n",
       "      <td>2.364100</td>\n",
       "      <td>2.454394</td>\n",
       "      <td>2.450555</td>\n",
       "      <td>2.527081</td>\n",
       "      <td>2.347702</td>\n",
       "      <td>2.363263</td>\n",
       "      <td>...</td>\n",
       "      <td>2.337347</td>\n",
       "      <td>2.369884</td>\n",
       "      <td>2.385251</td>\n",
       "      <td>2.405126</td>\n",
       "      <td>2.701260</td>\n",
       "      <td>2.507131</td>\n",
       "      <td>2.495491</td>\n",
       "      <td>2.497340</td>\n",
       "      <td>2.586701</td>\n",
       "      <td>2.665603</td>\n",
       "    </tr>\n",
       "    <tr>\n",
       "      <th>4</th>\n",
       "      <td>East Asia &amp; Pacific</td>\n",
       "      <td>4.429090</td>\n",
       "      <td>4.203152</td>\n",
       "      <td>4.244351</td>\n",
       "      <td>4.453984</td>\n",
       "      <td>4.626920</td>\n",
       "      <td>4.688849</td>\n",
       "      <td>4.684790</td>\n",
       "      <td>4.613537</td>\n",
       "      <td>4.635098</td>\n",
       "      <td>...</td>\n",
       "      <td>4.566215</td>\n",
       "      <td>4.367146</td>\n",
       "      <td>4.297394</td>\n",
       "      <td>4.434848</td>\n",
       "      <td>4.865241</td>\n",
       "      <td>4.775817</td>\n",
       "      <td>4.871727</td>\n",
       "      <td>4.866869</td>\n",
       "      <td>4.643221</td>\n",
       "      <td>4.571448</td>\n",
       "    </tr>\n",
       "  </tbody>\n",
       "</table>\n",
       "<p>5 rows × 21 columns</p>\n",
       "</div>"
      ],
      "text/plain": [
       "                     Country Name      1995      1996      1997      1998   \n",
       "0                      Arab World  2.004868  2.014602  2.071309  2.177712  \\\n",
       "1          Caribbean small states  2.801518  2.856684  2.997157  2.989451   \n",
       "2  Central Europe and the Baltics  4.678528  4.753209  4.604574  4.499988   \n",
       "3      Early-demographic dividend  2.203164  2.156632  2.227311  2.364100   \n",
       "4             East Asia & Pacific  4.429090  4.203152  4.244351  4.453984   \n",
       "\n",
       "       1999      2000      2001      2002      2003  ...      2005      2006   \n",
       "0  2.331000  2.333596  2.588751  2.540238  2.450415  ...  2.134281  2.133038  \\\n",
       "1  2.767858  2.826752  2.679969  2.888693  2.740593  ...  2.629580  2.650900   \n",
       "2  4.679082  4.539711  4.666272  4.900196  5.100249  ...  4.970861  4.841450   \n",
       "3  2.454394  2.450555  2.527081  2.347702  2.363263  ...  2.337347  2.369884   \n",
       "4  4.626920  4.688849  4.684790  4.613537  4.635098  ...  4.566215  4.367146   \n",
       "\n",
       "       2007      2008      2009      2010      2011      2012      2013   \n",
       "0  2.166872  2.101233  2.830067  2.489631  2.539570  2.711262  2.895427  \\\n",
       "1  2.790665  2.822913  3.408651  3.264064  3.087653  3.314303  3.318432   \n",
       "2  4.809057  5.054785  5.394921  5.284380  5.096212  5.041317  5.029266   \n",
       "3  2.385251  2.405126  2.701260  2.507131  2.495491  2.497340  2.586701   \n",
       "4  4.297394  4.434848  4.865241  4.775817  4.871727  4.866869  4.643221   \n",
       "\n",
       "       2014  \n",
       "0  3.073161  \n",
       "1  3.260012  \n",
       "2  5.017717  \n",
       "3  2.665603  \n",
       "4  4.571448  \n",
       "\n",
       "[5 rows x 21 columns]"
      ]
     },
     "metadata": {},
     "output_type": "display_data"
    },
    {
     "data": {
      "text/plain": [
       "(224, 21)"
      ]
     },
     "execution_count": 54,
     "metadata": {},
     "output_type": "execute_result"
    }
   ],
   "source": [
    "df3 = pd.read_csv('public_health.csv')\n",
    "# df3 = pd.read_csv(\"diamond (1).csv\")\n",
    "display(df3.head())\n",
    "df3.shape"
   ]
  },
  {
   "cell_type": "code",
   "execution_count": 55,
   "metadata": {},
   "outputs": [
    {
     "name": "stdout",
     "output_type": "stream",
     "text": [
      " Минимальное анамальное значение: 9.359712228\n",
      " Максимальное анамальное значение: 19.25675216\n",
      " Всего анамальных значений: 5\n",
      " Квартили: 2.1685375447500004, 3.155371392, 4.8502750277499995\n"
     ]
    },
    {
     "data": {
      "image/png": "[encoded data removed]",
      "text/plain": [
       "<Figure size 640x480 with 1 Axes>"
      ]
     },
     "metadata": {},
     "output_type": "display_data"
    }
   ],
   "source": [
    "ex = plt.boxplot(x=(df3['2006']))# построения ящика с усами по данным за 2006 год\n",
    "# Выявление аномальных значений\n",
    "ex = [flier.get_ydata() for flier in ex[\"fliers\"]][0]\n",
    "print(f' Минимальное анамальное значение: {ex.min()}\\n', \n",
    "      f'Максимальное анамальное значение: {ex.max()}\\n',\n",
    "      f'Всего анамальных значений: {len(ex)}')\n",
    "# Квартили\n",
    "q1, q2, q3 = np.percentile(df3['2006'], [25, 50, 75])\n",
    "print(f' Квартили: {q1}, {q2}, {q3}')\n"
   ]
  },
  {
   "cell_type": "code",
   "execution_count": 56,
   "metadata": {},
   "outputs": [
    {
     "data": {
      "text/html": [
       "<div>\n",
       "<style scoped>\n",
       "    .dataframe tbody tr th:only-of-type {\n",
       "        vertical-align: middle;\n",
       "    }\n",
       "\n",
       "    .dataframe tbody tr th {\n",
       "        vertical-align: top;\n",
       "    }\n",
       "\n",
       "    .dataframe thead th {\n",
       "        text-align: right;\n",
       "    }\n",
       "</style>\n",
       "<table border=\"1\" class=\"dataframe\">\n",
       "  <thead>\n",
       "    <tr style=\"text-align: right;\">\n",
       "      <th></th>\n",
       "      <th>Country Name</th>\n",
       "      <th>1995</th>\n",
       "      <th>1996</th>\n",
       "      <th>1997</th>\n",
       "      <th>1998</th>\n",
       "      <th>1999</th>\n",
       "      <th>2000</th>\n",
       "      <th>2001</th>\n",
       "      <th>2002</th>\n",
       "      <th>2003</th>\n",
       "      <th>...</th>\n",
       "      <th>2005</th>\n",
       "      <th>2006</th>\n",
       "      <th>2007</th>\n",
       "      <th>2008</th>\n",
       "      <th>2009</th>\n",
       "      <th>2010</th>\n",
       "      <th>2011</th>\n",
       "      <th>2012</th>\n",
       "      <th>2013</th>\n",
       "      <th>2014</th>\n",
       "    </tr>\n",
       "  </thead>\n",
       "  <tbody>\n",
       "    <tr>\n",
       "      <th>125</th>\n",
       "      <td>Kiribati</td>\n",
       "      <td>8.968471</td>\n",
       "      <td>8.797772</td>\n",
       "      <td>8.983000</td>\n",
       "      <td>6.656954</td>\n",
       "      <td>8.444217</td>\n",
       "      <td>7.582920</td>\n",
       "      <td>8.491803</td>\n",
       "      <td>8.563910</td>\n",
       "      <td>9.467626</td>\n",
       "      <td>...</td>\n",
       "      <td>9.460432</td>\n",
       "      <td>9.359712</td>\n",
       "      <td>11.400771</td>\n",
       "      <td>10.311665</td>\n",
       "      <td>10.364765</td>\n",
       "      <td>8.725610</td>\n",
       "      <td>8.568862</td>\n",
       "      <td>8.313609</td>\n",
       "      <td>8.232914</td>\n",
       "      <td>8.291027</td>\n",
       "    </tr>\n",
       "    <tr>\n",
       "      <th>143</th>\n",
       "      <td>Marshall Islands</td>\n",
       "      <td>28.049785</td>\n",
       "      <td>16.678893</td>\n",
       "      <td>17.168133</td>\n",
       "      <td>15.645230</td>\n",
       "      <td>15.427423</td>\n",
       "      <td>19.240433</td>\n",
       "      <td>16.071970</td>\n",
       "      <td>14.835146</td>\n",
       "      <td>14.211288</td>\n",
       "      <td>...</td>\n",
       "      <td>14.679710</td>\n",
       "      <td>17.055556</td>\n",
       "      <td>17.592000</td>\n",
       "      <td>16.481699</td>\n",
       "      <td>16.028947</td>\n",
       "      <td>14.398171</td>\n",
       "      <td>14.271676</td>\n",
       "      <td>13.906522</td>\n",
       "      <td>14.551898</td>\n",
       "      <td>14.449168</td>\n",
       "    </tr>\n",
       "    <tr>\n",
       "      <th>147</th>\n",
       "      <td>Micronesia, Fed. Sts.</td>\n",
       "      <td>8.696186</td>\n",
       "      <td>8.135027</td>\n",
       "      <td>7.277088</td>\n",
       "      <td>6.462138</td>\n",
       "      <td>7.064857</td>\n",
       "      <td>7.353310</td>\n",
       "      <td>8.006994</td>\n",
       "      <td>7.414074</td>\n",
       "      <td>9.029863</td>\n",
       "      <td>...</td>\n",
       "      <td>11.311200</td>\n",
       "      <td>11.033992</td>\n",
       "      <td>11.135547</td>\n",
       "      <td>11.695402</td>\n",
       "      <td>12.173285</td>\n",
       "      <td>12.610782</td>\n",
       "      <td>12.538215</td>\n",
       "      <td>11.588139</td>\n",
       "      <td>12.089938</td>\n",
       "      <td>12.433752</td>\n",
       "    </tr>\n",
       "    <tr>\n",
       "      <th>156</th>\n",
       "      <td>Nauru</td>\n",
       "      <td>12.334931</td>\n",
       "      <td>11.594284</td>\n",
       "      <td>11.826019</td>\n",
       "      <td>12.564985</td>\n",
       "      <td>12.337984</td>\n",
       "      <td>12.547686</td>\n",
       "      <td>13.312807</td>\n",
       "      <td>14.535418</td>\n",
       "      <td>13.454671</td>\n",
       "      <td>...</td>\n",
       "      <td>11.617775</td>\n",
       "      <td>12.576337</td>\n",
       "      <td>18.102824</td>\n",
       "      <td>15.606703</td>\n",
       "      <td>8.727534</td>\n",
       "      <td>8.454552</td>\n",
       "      <td>7.110557</td>\n",
       "      <td>6.523966</td>\n",
       "      <td>4.192164</td>\n",
       "      <td>2.867666</td>\n",
       "    </tr>\n",
       "    <tr>\n",
       "      <th>211</th>\n",
       "      <td>Tuvalu</td>\n",
       "      <td>7.960186</td>\n",
       "      <td>11.274663</td>\n",
       "      <td>8.087747</td>\n",
       "      <td>8.614015</td>\n",
       "      <td>9.221983</td>\n",
       "      <td>15.666667</td>\n",
       "      <td>17.269231</td>\n",
       "      <td>14.386207</td>\n",
       "      <td>21.654094</td>\n",
       "      <td>...</td>\n",
       "      <td>18.234377</td>\n",
       "      <td>19.256752</td>\n",
       "      <td>16.856098</td>\n",
       "      <td>13.268344</td>\n",
       "      <td>12.693344</td>\n",
       "      <td>16.628571</td>\n",
       "      <td>16.842105</td>\n",
       "      <td>13.641026</td>\n",
       "      <td>16.475000</td>\n",
       "      <td>16.404762</td>\n",
       "    </tr>\n",
       "  </tbody>\n",
       "</table>\n",
       "<p>5 rows × 21 columns</p>\n",
       "</div>"
      ],
      "text/plain": [
       "              Country Name       1995       1996       1997       1998   \n",
       "125               Kiribati   8.968471   8.797772   8.983000   6.656954  \\\n",
       "143       Marshall Islands  28.049785  16.678893  17.168133  15.645230   \n",
       "147  Micronesia, Fed. Sts.   8.696186   8.135027   7.277088   6.462138   \n",
       "156                  Nauru  12.334931  11.594284  11.826019  12.564985   \n",
       "211                 Tuvalu   7.960186  11.274663   8.087747   8.614015   \n",
       "\n",
       "          1999       2000       2001       2002       2003  ...       2005   \n",
       "125   8.444217   7.582920   8.491803   8.563910   9.467626  ...   9.460432  \\\n",
       "143  15.427423  19.240433  16.071970  14.835146  14.211288  ...  14.679710   \n",
       "147   7.064857   7.353310   8.006994   7.414074   9.029863  ...  11.311200   \n",
       "156  12.337984  12.547686  13.312807  14.535418  13.454671  ...  11.617775   \n",
       "211   9.221983  15.666667  17.269231  14.386207  21.654094  ...  18.234377   \n",
       "\n",
       "          2006       2007       2008       2009       2010       2011   \n",
       "125   9.359712  11.400771  10.311665  10.364765   8.725610   8.568862  \\\n",
       "143  17.055556  17.592000  16.481699  16.028947  14.398171  14.271676   \n",
       "147  11.033992  11.135547  11.695402  12.173285  12.610782  12.538215   \n",
       "156  12.576337  18.102824  15.606703   8.727534   8.454552   7.110557   \n",
       "211  19.256752  16.856098  13.268344  12.693344  16.628571  16.842105   \n",
       "\n",
       "          2012       2013       2014  \n",
       "125   8.313609   8.232914   8.291027  \n",
       "143  13.906522  14.551898  14.449168  \n",
       "147  11.588139  12.089938  12.433752  \n",
       "156   6.523966   4.192164   2.867666  \n",
       "211  13.641026  16.475000  16.404762  \n",
       "\n",
       "[5 rows x 21 columns]"
      ]
     },
     "execution_count": 56,
     "metadata": {},
     "output_type": "execute_result"
    }
   ],
   "source": [
    "# Анамаьлные значения за 2006 год\n",
    "df3[df3['2006'] >= ex.min()]"
   ]
  },
  {
   "cell_type": "markdown",
   "metadata": {},
   "source": [
    "Возможно, высокие показатели индексов данных стран связаны с немногочисленностью проживающего на территории стран населения."
   ]
  },
  {
   "cell_type": "code",
   "execution_count": 57,
   "metadata": {},
   "outputs": [
    {
     "name": "stdout",
     "output_type": "stream",
     "text": [
      "Среднее значение=3.754351593758929, Медиана=3.155371392, Мода=1.875267093, Стандартное отклонение=2.4726469757264415, Дисперсия=6.1139830665691175, Асимметрия=2.3121748546123815\n"
     ]
    }
   ],
   "source": [
    "# Другие значения, полученные в результате анализа данных за 2006 год\n",
    "price = df3['2006']\n",
    "sr=price.mean()\n",
    "med=price.median()\n",
    "pmode=statistics.mode(price)\n",
    "std=statistics.stdev(price)\n",
    "disp=statistics.variance(price)\n",
    "skew=stats.skew(price)\n",
    "print(f'Среднее значение={sr}, Медиана={med}, Мода={pmode}, Стандартное отклонение={std}, Дисперсия={disp}, Асимметрия={skew}')"
   ]
  },
  {
   "cell_type": "code",
   "execution_count": 58,
   "metadata": {},
   "outputs": [
    {
     "data": {
      "text/plain": [
       "ShapiroResult(statistic=0.8231955894111848, pvalue=3.061028276062682e-15)"
      ]
     },
     "execution_count": 58,
     "metadata": {},
     "output_type": "execute_result"
    },
    {
     "data": {
      "image/png": "[encoded data removed]",
      "text/plain": [
       "<Figure size 640x480 with 1 Axes>"
      ]
     },
     "metadata": {},
     "output_type": "display_data"
    }
   ],
   "source": [
    "sns.histplot(df3['2006'], kde = True, bins = 30)\n",
    "stats.shapiro(df3['2006'])#тест Шапиро-Уилка для проверки нормальности данных\n"
   ]
  },
  {
   "cell_type": "code",
   "execution_count": 59,
   "metadata": {},
   "outputs": [
    {
     "data": {
      "text/plain": [
       "ShapiroResult(statistic=0.9876457645640716, pvalue=0.050109876066363156)"
      ]
     },
     "execution_count": 59,
     "metadata": {},
     "output_type": "execute_result"
    },
    {
     "data": {
      "image/png": "[encoded data removed]",
      "text/plain": [
       "<Figure size 640x480 with 1 Axes>"
      ]
     },
     "metadata": {},
     "output_type": "display_data"
    }
   ],
   "source": [
    "# логорифмируем данные и получаем более равномерное распределение\n",
    "s = np.log(df3['2006'])\n",
    "sns.histplot(s, kde=True, bins=30)\n",
    "stats.shapiro(s)# тест Шапиро-Уилка для проверки нормальности данных"
   ]
  },
  {
   "cell_type": "code",
   "execution_count": 60,
   "metadata": {},
   "outputs": [
    {
     "name": "stdout",
     "output_type": "stream",
     "text": [
      "Среднее: 4.5733196494, Медиана: 4.6201167425000005\n"
     ]
    },
    {
     "data": {
      "image/png": "[encoded data removed]",
      "text/plain": [
       "<Figure size 900x540 with 1 Axes>"
      ]
     },
     "metadata": {},
     "output_type": "display_data"
    }
   ],
   "source": [
    "# Пример равномерного распределения\n",
    "eap = df3[df3['Country Name']== 'East Asia & Pacific'].values.tolist()\n",
    "years = df3.columns.to_list()\n",
    "del years[0]\n",
    "eap=eap[0][1:]\n",
    "eap_mean = sum(eap) / len(eap)\n",
    "eap_median = statistics.median(eap)\n",
    "plt.figure(figsize=(10, 6), dpi=90)\n",
    "plt.bar(years, eap)\n",
    "print(f\"Среднее: {eap_mean}, Медиана: {eap_median}\")"
   ]
  }
 ],
 "metadata": {
  "kernelspec": {
   "display_name": "Python 3",
   "language": "python",
   "name": "python3"
  },
  "language_info": {
   "codemirror_mode": {
    "name": "ipython",
    "version": 3
   },
   "file_extension": ".py",
   "mimetype": "text/x-python",
   "name": "python",
   "nbconvert_exporter": "python",
   "pygments_lexer": "ipython3",
   "version": "3.11.3"
  }
 },
 "nbformat": 4,
 "nbformat_minor": 2
}
